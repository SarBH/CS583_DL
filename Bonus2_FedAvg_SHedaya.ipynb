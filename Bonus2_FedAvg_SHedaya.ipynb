{
  "nbformat": 4,
  "nbformat_minor": 0,
  "metadata": {
    "kernelspec": {
      "display_name": "Python 3",
      "language": "python",
      "name": "python3"
    },
    "language_info": {
      "codemirror_mode": {
        "name": "ipython",
        "version": 3
      },
      "file_extension": ".py",
      "mimetype": "text/x-python",
      "name": "python",
      "nbconvert_exporter": "python",
      "pygments_lexer": "ipython3",
      "version": "3.6.4"
    },
    "colab": {
      "name": "Bonus2_FedAvg_SHedaya.ipynb",
      "provenance": [],
      "collapsed_sections": [
        "DpBH8FcYlsCd",
        "Fnr8jyqDlsCm",
        "iebj9DGflsDB",
        "Qumyi557lsDE",
        "s9VCvPtolsDR",
        "ERT3wqOllsDf"
      ]
    }
  },
  "cells": [
    {
      "cell_type": "markdown",
      "metadata": {
        "id": "cyf8kWL7lsB9",
        "colab_type": "text"
      },
      "source": [
        "# Bonus 1: Numerical Optimization for Logistic Regression.\n",
        "\n",
        "### Name: Sarita Hedaya\n"
      ]
    },
    {
      "cell_type": "markdown",
      "metadata": {
        "colab_type": "text",
        "id": "0FJFdPgSgI8z"
      },
      "source": [
        "1. Read the lecture note [click here (Links to an external site.)]  and the corresponding research papers.\n",
        "\n",
        " \n",
        "\n",
        "2. Implement federated averaging (easier) and/or decentralized optimization (harder). 2 bonus points for each. If you do both, submit them as two separate IPYNB files.\n",
        "\n",
        " \n",
        "\n",
        "3. Data: use the data and template of Bonus 1.\n",
        "\n",
        " \n",
        "\n",
        "4. Requirement for federated averaging:\n",
        "\n",
        "\n",
        "\n",
        "\n",
        "\n",
        "\n",
        "\n",
        "*   Use 4 worker nodes.\n",
        "*   Use GD and SGD (with batch size b=1).\n",
        "* Set the number of local iterations to q=1 and 8.\n",
        "* Plot (training) objective function against epochs. Note that one epoch means every sample is visited exactly once.\n",
        "* Note also that there are 4 lines in your plot. (GD with q=1, GD with q=8, SGD with q=1, SGD with q=8.)\n",
        "\n",
        "\n",
        " \n",
        "\n",
        "\n",
        "\n",
        " \n",
        "\n",
        "5. Requirement for decentralized optimization:\n",
        "\n",
        "* Use 7 worker nodes; the connection must be the same as the figure in the lecture note.\n",
        "* Use GD.\n",
        "* Try weighted averaging (give a worker's own parameter a higher weight than its neighbors' parameters) and simple averaging (everyone has the same weight).\n",
        "* Plot (training) objective function against epochs. \n",
        "* Note that there are at least 2 lines in your plot. (Corresponding to the weighting schemes.)\n",
        " "
      ]
    },
    {
      "cell_type": "code",
      "metadata": {
        "id": "ogbmRbFclsCB",
        "colab_type": "code",
        "colab": {}
      },
      "source": [
        ""
      ],
      "execution_count": 0,
      "outputs": []
    },
    {
      "cell_type": "markdown",
      "metadata": {
        "id": "9hTxdXWJlsCG",
        "colab_type": "text"
      },
      "source": [
        "# 1. Data processing\n",
        "\n",
        "- Download the Diabete dataset from https://www.csie.ntu.edu.tw/~cjlin/libsvmtools/datasets/binary/diabetes\n",
        "- Load the data using sklearn.\n",
        "- Preprocess the data."
      ]
    },
    {
      "cell_type": "markdown",
      "metadata": {
        "id": "Ubph9GGqlsCH",
        "colab_type": "text"
      },
      "source": [
        "## 1.1. Load the data"
      ]
    },
    {
      "cell_type": "code",
      "metadata": {
        "id": "ZsHI3SOqm4lg",
        "colab_type": "code",
        "outputId": "14e42dd7-89ee-4493-8196-857ff82b5148",
        "colab": {
          "base_uri": "https://localhost:8080/",
          "height": 34
        }
      },
      "source": [
        "from google.colab import drive\n",
        "drive.mount('/content/drive')"
      ],
      "execution_count": 122,
      "outputs": [
        {
          "output_type": "stream",
          "text": [
            "Drive already mounted at /content/drive; to attempt to forcibly remount, call drive.mount(\"/content/drive\", force_remount=True).\n"
          ],
          "name": "stdout"
        }
      ]
    },
    {
      "cell_type": "code",
      "metadata": {
        "id": "Fs2NtVkFlsCJ",
        "colab_type": "code",
        "outputId": "49fdd0d7-33f3-4550-c586-dabfd9ac2f06",
        "colab": {
          "base_uri": "https://localhost:8080/",
          "height": 52
        }
      },
      "source": [
        "from sklearn import datasets\n",
        "import numpy\n",
        "\n",
        "x_sparse, y = datasets.load_svmlight_file('/content/drive/My Drive/F19/CS 583 - Deep Learning/diabetes.txt')\n",
        "x = x_sparse.todense()\n",
        "\n",
        "print('Shape of x: ' + str(x.shape))\n",
        "print('Shape of y: ' + str(y.shape))"
      ],
      "execution_count": 123,
      "outputs": [
        {
          "output_type": "stream",
          "text": [
            "Shape of x: (768, 8)\n",
            "Shape of y: (768,)\n"
          ],
          "name": "stdout"
        }
      ]
    },
    {
      "cell_type": "markdown",
      "metadata": {
        "id": "6RzPmSAjlsCN",
        "colab_type": "text"
      },
      "source": [
        "## 1.2. Partition to training and test sets"
      ]
    },
    {
      "cell_type": "code",
      "metadata": {
        "id": "CuF9440ElsCP",
        "colab_type": "code",
        "outputId": "62340e50-327e-43f9-8526-778704304c44",
        "colab": {
          "base_uri": "https://localhost:8080/",
          "height": 87
        }
      },
      "source": [
        "# partition the data to training and test sets\n",
        "n = x.shape[0]\n",
        "n_train = int(numpy.ceil(n * 0.8))\n",
        "n_test = n - n_train\n",
        "\n",
        "rand_indices = numpy.random.permutation(n)\n",
        "train_indices = rand_indices[0:n_train]\n",
        "test_indices = rand_indices[n_train:n]\n",
        "\n",
        "x_train = x[train_indices, :]\n",
        "x_test = x[test_indices, :]\n",
        "y_train = y[train_indices].reshape(n_train, 1)\n",
        "y_test = y[test_indices].reshape(n_test, 1)\n",
        "\n",
        "print('Shape of x_train: ' + str(x_train.shape))\n",
        "print('Shape of x_test: ' + str(x_test.shape))\n",
        "print('Shape of y_train: ' + str(y_train.shape))\n",
        "print('Shape of y_test: ' + str(y_test.shape))"
      ],
      "execution_count": 124,
      "outputs": [
        {
          "output_type": "stream",
          "text": [
            "Shape of x_train: (615, 8)\n",
            "Shape of x_test: (153, 8)\n",
            "Shape of y_train: (615, 1)\n",
            "Shape of y_test: (153, 1)\n"
          ],
          "name": "stdout"
        }
      ]
    },
    {
      "cell_type": "markdown",
      "metadata": {
        "id": "aqehSVqelsCT",
        "colab_type": "text"
      },
      "source": [
        "## 1.3. Feature scaling"
      ]
    },
    {
      "cell_type": "markdown",
      "metadata": {
        "id": "KodPvsAolsCU",
        "colab_type": "text"
      },
      "source": [
        "Use the standardization to trainsform both training and test features"
      ]
    },
    {
      "cell_type": "code",
      "metadata": {
        "id": "1y_7yicGlsCW",
        "colab_type": "code",
        "outputId": "6452e457-9bc7-41fb-edeb-0f5a63553292",
        "colab": {
          "base_uri": "https://localhost:8080/",
          "height": 123
        }
      },
      "source": [
        "# Standardization\n",
        "import numpy\n",
        "\n",
        "# calculate mu and sig using the training set\n",
        "d = x_train.shape[1]\n",
        "mu = numpy.mean(x_train, axis=0).reshape(1, d)\n",
        "sig = numpy.std(x_train, axis=0).reshape(1, d)\n",
        "\n",
        "# transform the training features\n",
        "x_train = (x_train - mu) / (sig + 1E-6)\n",
        "\n",
        "# transform the test features\n",
        "x_test = (x_test - mu) / (sig + 1E-6)\n",
        "\n",
        "print('test mean = ')\n",
        "print(numpy.mean(x_test, axis=0))\n",
        "\n",
        "print('test std = ')\n",
        "print(numpy.std(x_test, axis=0))"
      ],
      "execution_count": 125,
      "outputs": [
        {
          "output_type": "stream",
          "text": [
            "test mean = \n",
            "[[-0.02772253 -0.01282227 -0.03617019 -0.12011721 -0.13112678  0.05843218\n",
            "  -0.00777865  0.0348263 ]]\n",
            "test std = \n",
            "[[1.06239624 1.03295418 1.20271906 1.0481506  0.80986955 1.13534821\n",
            "  1.1623515  1.09814328]]\n"
          ],
          "name": "stdout"
        }
      ]
    },
    {
      "cell_type": "markdown",
      "metadata": {
        "id": "nqHCdHZvlsCZ",
        "colab_type": "text"
      },
      "source": [
        "## 1.4. Add a dimension of all ones"
      ]
    },
    {
      "cell_type": "code",
      "metadata": {
        "id": "Ucpobwr4lsCa",
        "colab_type": "code",
        "outputId": "61441acd-4b85-4c04-c7cb-0d1c7a8f07c7",
        "colab": {
          "base_uri": "https://localhost:8080/",
          "height": 52
        }
      },
      "source": [
        "n_train, d = x_train.shape\n",
        "x_train = numpy.concatenate((x_train, numpy.ones((n_train, 1))), axis=1)\n",
        "\n",
        "n_test, d = x_test.shape\n",
        "x_test = numpy.concatenate((x_test, numpy.ones((n_test, 1))), axis=1)\n",
        "\n",
        "print('Shape of x_train: ' + str(x_train.shape))\n",
        "print('Shape of x_test: ' + str(x_test.shape))"
      ],
      "execution_count": 126,
      "outputs": [
        {
          "output_type": "stream",
          "text": [
            "Shape of x_train: (615, 9)\n",
            "Shape of x_test: (153, 9)\n"
          ],
          "name": "stdout"
        }
      ]
    },
    {
      "cell_type": "markdown",
      "metadata": {
        "id": "LJ3MXygqg_mO",
        "colab_type": "text"
      },
      "source": [
        "# 2. Define class Worker and Server"
      ]
    },
    {
      "cell_type": "markdown",
      "metadata": {
        "id": "qJ3tU0kblP8G",
        "colab_type": "text"
      },
      "source": [
        "## 2.1 Worker Class definition"
      ]
    },
    {
      "cell_type": "code",
      "metadata": {
        "id": "TW6yflHVhPyI",
        "colab_type": "code",
        "colab": {}
      },
      "source": [
        "class Worker:\n",
        "    def __init__(self, x, y, batch_size=None):\n",
        "        self.x = x # s−by−d local feature matrix\n",
        "        self.y = y # s-by-1 local labels matrix\n",
        "        self.s = x.shape[0] # number of local samples\n",
        "        self.d = x.shape[1] # number of features\n",
        "        self.w = numpy.zeros((d, 1)) # d-by-1 model parameter vector\n",
        "\n",
        "    def set_param(self, w):\n",
        "        self.w = w\n",
        "\n",
        "    def loss(self):\n",
        "        \"\"\" Computes the local loss \"\"\"\n",
        "        yx = numpy.multiply(self.y, self.x) # s−by−d matrix\n",
        "        yxw = numpy.dot(yx, self.w) # s-by-1 matrix\n",
        "        vec1 = numpy.exp(-yxw) #s-by-1 matrix\n",
        "        vec2 = numpy.log(1 + vec1) # s-by-1 matrix\n",
        "        return numpy.sum(vec2)\n",
        "\n",
        "    def gradient(self):\n",
        "        \"\"\" Computes the local gradient \"\"\"\n",
        "        yx = numpy.multiply(self.y, self.x) # s−by−d matrix\n",
        "        yxw = numpy.dot(yx, self.w) # s-by-1 matrix\n",
        "        vec1 = numpy.exp(yxw) #s-by-1 matrix\n",
        "        vec2 = numpy.divide(yx, 1 + vec1) # s-by-d \n",
        "        g = -numpy.sum(vec2, axis=0).reshape(self.d, 1) # d-by-1\n",
        "        return g"
      ],
      "execution_count": 0,
      "outputs": []
    },
    {
      "cell_type": "markdown",
      "metadata": {
        "id": "MILOD9HFlTgQ",
        "colab_type": "text"
      },
      "source": [
        "## 2.2 Server Class definition"
      ]
    },
    {
      "cell_type": "code",
      "metadata": {
        "id": "qMXRPq82jJya",
        "colab_type": "code",
        "colab": {}
      },
      "source": [
        "class Server:\n",
        "  def __init__(self, m, n, d):\n",
        "    self.m = m\n",
        "    self.n = n\n",
        "    self.d = d\n",
        "    self.w = numpy.zeros((d, 1))\n",
        "    self.g = numpy.zeros((d, 1))\n",
        "    self.v = numpy.zeros((d, 1))\n",
        "    self.loss = 0\n",
        "    self.obj = 0\n",
        "    \n",
        "  def broadcast(self):\n",
        "    return self.w\n",
        "  \n",
        "  def aggregate(self, grads, losses):\n",
        "    \"\"\" Sum the gradients and loss functions evaluated by the workers\n",
        "    Args: \n",
        "      grads: a list of d-by-1 vectors\n",
        "      losses: a list of scalars\n",
        "    \"\"\"\n",
        "    self.g = numpy.zeros((self.d, 1))\n",
        "    self.loss = 0\n",
        "    for k in range(self.m):\n",
        "      self.g += grads[k]\n",
        "      self.loss += losses[k]\n",
        "      \n",
        "  def gradient(self, lam):\n",
        "    \"\"\" Compute the gradient from loss and regularization \"\"\"\n",
        "    self.g = self.g / self.n + lam * self.w\n",
        "    \n",
        "  def objective(self, lam):\n",
        "    \"\"\" Compute objective function = sum of loss and regularization \"\"\"\n",
        "    reg = lam / 2 * numpy.sum(self.w * self.w)\n",
        "    self.obj = self.loss / self.n + reg\n",
        "    return self.obj\n",
        "  \n",
        "  \n",
        "  def agd(self, alpha, beta):\n",
        "    \"\"\" Update the model paramteters using accelerated gradient descent.\n",
        "    Args:\n",
        "      alpha: learning rate\n",
        "      beta: momentum parameter\n",
        "    \"\"\"\n",
        "    self.v *= beta\n",
        "    self.v += self.g\n",
        "    self.w -= alpha * self.v"
      ],
      "execution_count": 0,
      "outputs": []
    },
    {
      "cell_type": "markdown",
      "metadata": {
        "id": "_vGSEvuTlZp0",
        "colab_type": "text"
      },
      "source": [
        "## 2.3 Initialization"
      ]
    },
    {
      "cell_type": "code",
      "metadata": {
        "id": "KAY_T8eNlylJ",
        "colab_type": "code",
        "colab": {}
      },
      "source": [
        "import math\n",
        "\n",
        "def create_server_workers(m, x, y):\n",
        "  n, d = x.shape\n",
        "  s = math.floor(n / m)\n",
        "  server = Server(m, n, d)\n",
        "  workers = []\n",
        "  \n",
        "  for i in range(m):\n",
        "    indeces = list(range(i*s, (i + 1)*s))\n",
        "    worker = Worker(x[indeces, :], y[indeces, :])\n",
        "    workers.append(worker)\n",
        "    \n",
        "  return server, workers"
      ],
      "execution_count": 0,
      "outputs": []
    },
    {
      "cell_type": "code",
      "metadata": {
        "id": "s7G_2U0AErcB",
        "colab_type": "code",
        "colab": {}
      },
      "source": [
        "m = 4\n",
        "server, workers = create_server_workers(4, x_train, y_train)"
      ],
      "execution_count": 0,
      "outputs": []
    },
    {
      "cell_type": "markdown",
      "metadata": {
        "id": "SZB-3rV_mvvw",
        "colab_type": "text"
      },
      "source": [
        "### Gradient Descent parallel computation"
      ]
    },
    {
      "cell_type": "code",
      "metadata": {
        "id": "s6jI29FyE-Su",
        "colab_type": "code",
        "colab": {
          "base_uri": "https://localhost:8080/",
          "height": 905
        },
        "outputId": "83358c92-3f79-4320-c745-1b7e4655e85b"
      },
      "source": [
        "lam = 1E-6\n",
        "alpha = 1E-1\n",
        "beta=0.9\n",
        "max_epoch=50\n",
        "\n",
        "\n",
        "objvals_gd = []\n",
        "\n",
        "for t in range(max_epoch):\n",
        "    # step1: broadcast\n",
        "    w = server.broadcast()\n",
        "    for i in range(m):\n",
        "        workers[i].set_param(w)\n",
        "\n",
        "    # step2: perform worker's local computations\n",
        "    grads=[]\n",
        "    losses=[]\n",
        "    for i in range(m):\n",
        "        g = workers[i].gradient()\n",
        "        grads.append(g)\n",
        "\n",
        "        l = workers[i].loss()\n",
        "        losses.append(l)\n",
        "\n",
        "    # step3: aggregate worker's output\n",
        "    server.aggregate(grads, losses)\n",
        "\n",
        "    # step4: server update the model params\n",
        "    server.gradient(lam)\n",
        "    obj = server.objective(lam)\n",
        "    print(\"objective function value at \", str(t+1), \" = \", str(obj))\n",
        "    objvals_gd.append(obj)\n",
        "    server.agd(alpha, beta)"
      ],
      "execution_count": 139,
      "outputs": [
        {
          "output_type": "stream",
          "text": [
            "objective function value at  1  =  0.6897659748011163\n",
            "objective function value at  2  =  0.677537867443514\n",
            "objective function value at  3  =  0.6561695347979073\n",
            "objective function value at  4  =  0.6296167442517455\n",
            "objective function value at  5  =  0.601761942067588\n",
            "objective function value at  6  =  0.5756481277630227\n",
            "objective function value at  7  =  0.5531106713357387\n",
            "objective function value at  8  =  0.5348435258500475\n",
            "objective function value at  9  =  0.5207251092734227\n",
            "objective function value at  10  =  0.5101872560673841\n",
            "objective function value at  11  =  0.5025018371485238\n",
            "objective function value at  12  =  0.4969567083019826\n",
            "objective function value at  13  =  0.4929418739258109\n",
            "objective function value at  14  =  0.48997777045224555\n",
            "objective function value at  15  =  0.4877118998911982\n",
            "objective function value at  16  =  0.48590097558950346\n",
            "objective function value at  17  =  0.4843883651346669\n",
            "objective function value at  18  =  0.48308182379749254\n",
            "objective function value at  19  =  0.48193377256418374\n",
            "objective function value at  20  =  0.48092494699555144\n",
            "objective function value at  21  =  0.4800515529648018\n",
            "objective function value at  22  =  0.47931574818867523\n",
            "objective function value at  23  =  0.4787191206518115\n",
            "objective function value at  24  =  0.47825875754869085\n",
            "objective function value at  25  =  0.4779254529272344\n",
            "objective function value at  26  =  0.4777035801133127\n",
            "objective function value at  27  =  0.4775721571806487\n",
            "objective function value at  28  =  0.4775066604004358\n",
            "objective function value at  29  =  0.47748118825086194\n",
            "objective function value at  30  =  0.4774706413744116\n",
            "objective function value at  31  =  0.4774526560469705\n",
            "objective function value at  32  =  0.47740910555915395\n",
            "objective function value at  33  =  0.4773270613556431\n",
            "objective function value at  34  =  0.4771991795774795\n",
            "objective function value at  35  =  0.47702354409189246\n",
            "objective function value at  36  =  0.47680304959095554\n",
            "objective function value at  37  =  0.4765444444212529\n",
            "objective function value at  38  =  0.4762571708965753\n",
            "objective function value at  39  =  0.47595214154098703\n",
            "objective function value at  40  =  0.47564057554260647\n",
            "objective function value at  41  =  0.4753329945688587\n",
            "objective function value at  42  =  0.4750384455701326\n",
            "objective function value at  43  =  0.4747639848391976\n",
            "objective function value at  44  =  0.4745144263845989\n",
            "objective function value at  45  =  0.47429233163960516\n",
            "objective function value at  46  =  0.47409819852499696\n",
            "objective function value at  47  =  0.47393079660657006\n",
            "objective function value at  48  =  0.4737875912117884\n",
            "objective function value at  49  =  0.473665201808645\n",
            "objective function value at  50  =  0.4735598471579399\n"
          ],
          "name": "stdout"
        }
      ]
    },
    {
      "cell_type": "markdown",
      "metadata": {
        "id": "8JqzvcAIDs8h",
        "colab_type": "text"
      },
      "source": [
        "### SGD with parallel computation\n",
        "\n",
        "Helper code first"
      ]
    },
    {
      "cell_type": "code",
      "metadata": {
        "id": "rvXaC1VblsC4",
        "colab_type": "code",
        "colab": {}
      },
      "source": [
        "# Calculate the objective Q_i and the gradient of Q_i\n",
        "# Inputs:\n",
        "#     w: d-by-1 matrix\n",
        "#     xi: 1-by-d matrix\n",
        "#     yi: scalar\n",
        "#     lam: scalar, the regularization parameter\n",
        "# Return:\n",
        "#     obj: scalar, the objective Q_i\n",
        "#     g: d-by-1 matrix, gradient of Q_i\n",
        "def stochastic_objective_gradient(w, xi, yi, lam):\n",
        "    d = xi.shape[0]\n",
        "    yx = yi * xi # 1-by-d matrix\n",
        "    yxw = float(numpy.dot(yx, w)) # scalar\n",
        "    \n",
        "    # calculate objective function Q_i\n",
        "    loss = numpy.log(1 + numpy.exp(-yxw)) # scalar\n",
        "    reg = lam / 2 * numpy.sum(w * w) # scalar\n",
        "    obj = loss + reg\n",
        "    \n",
        "    # calculate stochastic gradient\n",
        "    g_loss = -yx.T / (1 + numpy.exp(yxw)) # d-by-1 matrix\n",
        "    g = g_loss + lam * w # d-by-1 matrix\n",
        "    \n",
        "    return obj, g"
      ],
      "execution_count": 0,
      "outputs": []
    },
    {
      "cell_type": "code",
      "metadata": {
        "colab_type": "code",
        "id": "G4Scc8s6-y0C",
        "colab": {}
      },
      "source": [
        "lam = 1E-6\n",
        "alpha = 1E-1\n",
        "beta=0.9\n",
        "max_epoch=50\n",
        "\n",
        "\n",
        "objvals_gd = []\n",
        "\n",
        "for t in range(max_epoch):\n",
        "    # step1: broadcast\n",
        "    w = server.broadcast()\n",
        "    for i in range(m):\n",
        "        workers[i].set_param(w)\n",
        "\n",
        "    # step2: perform worker's local computations\n",
        "    grads=[]\n",
        "    losses=[]\n",
        "    for i in range(m):\n",
        "        for sample_id in range(len(workers[i].x)):\n",
        "            obj, g = stochastic_objective_gradient(workers[i].w, workers[i].x[sample_id], workers[i].y[sample_id], lam)\n",
        "\n",
        "\n",
        "    # step3: aggregate worker's output\n",
        "    server.aggregate(grads, losses)\n",
        "\n",
        "    # step4: server update the model params\n",
        "    server.gradient(lam)\n",
        "    obj = server.objective(lam)\n",
        "    print(\"objective function value at \", str(t+1), \" = \", str(obj))\n",
        "    objvals_gd.append(obj)\n",
        "    server.agd(alpha, beta)"
      ],
      "execution_count": 0,
      "outputs": []
    },
    {
      "cell_type": "markdown",
      "metadata": {
        "id": "GbO4-gROm04d",
        "colab_type": "text"
      },
      "source": [
        "### Gradient descent Federated Average"
      ]
    },
    {
      "cell_type": "code",
      "metadata": {
        "id": "suba3tyJJYng",
        "colab_type": "code",
        "colab": {
          "base_uri": "https://localhost:8080/",
          "height": 123
        },
        "outputId": "5cb3fc1a-c7a2-4bd2-9143-385d1fff5a26"
      },
      "source": [
        "lam = 1E-6\n",
        "alpha = 1E-1\n",
        "beta=0.9\n",
        "max_epoch=50\n",
        "local_iters = 8\n",
        "\n",
        "objvals_gd_q8 = []\n",
        "\n",
        "\n",
        "\n",
        "for t in range(int(max_epoch/local_iters)):\n",
        "    # step1: broadcast\n",
        "    w = server.broadcast()\n",
        "    for i in range(m):\n",
        "        workers[i].set_param(w)\n",
        "\n",
        "    # step2: perform worker's local computations\n",
        "    grads = []\n",
        "    losses = []\n",
        "    # print(grads)\n",
        "    # print(losses)        \n",
        "\n",
        "    # g_per_iter.average(axis=1)\n",
        "\n",
        "    for i in range(m):\n",
        "        worker_grads = numpy.zeros((local_iters, 9, 1))\n",
        "        worker_losses = numpy.zeros((local_iters))\n",
        "\n",
        "        for q in range(local_iters):\n",
        "            g_per_iter = workers[i].gradient()\n",
        "            worker_grads[q] = g_per_iter\n",
        "\n",
        "            loss_per_iter = workers[i].loss()\n",
        "            worker_losses[q] = loss_per_iter\n",
        "            \n",
        "        avg_worker_grads = numpy.average(worker_grads, axis=0)\n",
        "        grads.append(avg_worker_grads)\n",
        "\n",
        "        avg_worker_losses = numpy.average(worker_losses, axis=0)\n",
        "\n",
        "        losses.append(avg_worker_losses)\n",
        "\n",
        "    # step3: aggregate worker's output\n",
        "    server.aggregate(grads, losses)\n",
        "\n",
        "    # step4: server update the model params\n",
        "    server.gradient(lam)\n",
        "    obj = server.objective(lam)\n",
        "    print(\"objective function value at\", str(t*local_iters +1), \" = \", str(obj))\n",
        "    objvals_gd_q8.append(obj)\n",
        "    server.agd(alpha, beta)"
      ],
      "execution_count": 141,
      "outputs": [
        {
          "output_type": "stream",
          "text": [
            "objective function value at 1  =  0.6897659748011163\n",
            "objective function value at 9  =  0.677537867443514\n",
            "objective function value at 17  =  0.6561695347979073\n",
            "objective function value at 25  =  0.6296167442517455\n",
            "objective function value at 33  =  0.601761942067588\n",
            "objective function value at 41  =  0.5756481277630227\n"
          ],
          "name": "stdout"
        }
      ]
    },
    {
      "cell_type": "code",
      "metadata": {
        "id": "BAgRO1APLiCY",
        "colab_type": "code",
        "colab": {
          "base_uri": "https://localhost:8080/",
          "height": 296
        },
        "outputId": "3e93c33b-9447-4280-e8a2-0a5aef100301"
      },
      "source": [
        "import matplotlib.pyplot as plt\n",
        "%matplotlib inline\n",
        "\n",
        "fig = plt.figure(figsize=(6, 4))\n",
        "\n",
        "epochs_gd = range(len(objvals_gd))\n",
        "epochs_gd_q8 = range(0, len(objvals_gd_q8)*local_iters, local_iters)\n",
        "\n",
        "\n",
        "line0, = plt.plot(epochs_gd, objvals_gd, '--b', LineWidth=4)\n",
        "line1, = plt.plot(epochs_gd_q8, objvals_gd_q8, '-b', LineWidth=2)\n",
        "\n",
        "# line2, = plt.plot(epochs_sgd, objvals_sgd, '--r', LineWidth=4)\n",
        "# line3, = plt.plot(epochs_sgd_q8, objvals_sgd_q8, '-r', LineWidth=2)\n",
        "\n",
        "plt.xlabel('Epochs', FontSize=20)\n",
        "plt.ylabel('Objective Value', FontSize=20)\n",
        "plt.xticks(FontSize=16)\n",
        "plt.yticks(FontSize=16)\n",
        "plt.legend([line0, line1], ['GD', 'GD_q=8', 'SGD', 'SGD_q=8'], fontsize=20)\n",
        "plt.tight_layout()\n",
        "plt.show()\n",
        "fig.savefig('compare_gd_with_q8.pdf', format='pdf', dpi=1200)"
      ],
      "execution_count": 142,
      "outputs": [
        {
          "output_type": "display_data",
          "data": {
            "image/png": "[encoded data removed]",
            "text/plain": [
              "<Figure size 432x288 with 1 Axes>"
            ]
          },
          "metadata": {
            "tags": []
          }
        }
      ]
    },
    {
      "cell_type": "markdown",
      "metadata": {
        "id": "ECRl0niBg-3f",
        "colab_type": "text"
      },
      "source": [
        "# **Bonus 2 ends here**"
      ]
    }
  ]
}