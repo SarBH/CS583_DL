{
  "nbformat": 4,
  "nbformat_minor": 0,
  "metadata": {
    "kernelspec": {
      "name": "python3",
      "display_name": "Python 3"
    },
    "language_info": {
      "codemirror_mode": {
        "name": "ipython",
        "version": 3
      },
      "file_extension": ".py",
      "mimetype": "text/x-python",
      "name": "python",
      "nbconvert_exporter": "python",
      "pygments_lexer": "ipython3",
      "version": "3.6.4"
    },
    "colab": {
      "name": "Homework3_SHedaya.ipynb",
      "provenance": [],
      "collapsed_sections": [],
      "toc_visible": true
    },
    "accelerator": "GPU"
  },
  "cells": [
    {
      "cell_type": "markdown",
      "metadata": {
        "id": "U_l6pomKblMV",
        "colab_type": "text"
      },
      "source": [
        "# Home 3: Build a CNN for image recognition.\n",
        "\n",
        "### Name: Sarita Hedaya\n"
      ]
    },
    {
      "cell_type": "markdown",
      "metadata": {
        "id": "tI7TLaU6blMX",
        "colab_type": "text"
      },
      "source": [
        "## 0. You will do the following:\n",
        "\n",
        "1. Read, complete, and run the code.\n",
        "\n",
        "2. **Make substantial improvements** to maximize the accurcy.\n",
        "    \n",
        "3. Convert the .IPYNB file to .HTML file.\n",
        "\n",
        "    * The HTML file must contain the code and the output after execution.\n",
        "    \n",
        "    \n",
        "4. Upload this .HTML file to your Google Drive, Dropbox, or Github repo.\n",
        "\n",
        "4. Submit the link to this .HTML file to Canvas.\n",
        "\n",
        "    * Example: https://github.com/wangshusen/CS583-2019F/blob/master/homework/HM3/HM3.html\n",
        "\n",
        "\n",
        "## Requirements:\n",
        "\n",
        "1. You can use whatever CNN architecture, including VGG, Inception, and ResNet. However, you must build the networks layer by layer. You must NOT import the archetectures from ```keras.applications```.\n",
        "\n",
        "2. Make sure ```BatchNormalization``` is between a ```Conv```/```Dense``` layer and an ```activation``` layer.\n",
        "\n",
        "3. If you want to regularize a ```Conv```/```Dense``` layer, you should place a ```Dropout``` layer **before** the ```Conv```/```Dense``` layer.\n",
        "\n",
        "4. An accuracy above 70% is considered reasonable. An accuracy above 80% is considered good. Without data augmentation, achieving 80% accuracy is difficult.\n",
        "\n",
        "\n",
        "## Google Colab\n",
        "\n",
        "- If you do not have GPU, the training of a CNN can be slow. Google Colab is a good option.\n",
        "\n",
        "- Keep in mind that you must download it as an IPYNB file and then use IPython Notebook to convert it to HTML.\n",
        "\n",
        "- Also keep in mind that the IPYNB and HTML files must contain the outputs. (Otherwise, the instructor will not be able to know the correctness and performance.) Do the followings to keep the outputs.\n",
        "\n",
        "- In Colab, go to ```Runtime``` --> ```Change runtime type``` --> Do NOT check ```Omit code cell output when saving this notebook```. In this way, the downloaded IPYNB file contains the outputs."
      ]
    },
    {
      "cell_type": "markdown",
      "metadata": {
        "id": "D0wemXwXblMX",
        "colab_type": "text"
      },
      "source": [
        "## 1. Data preparation"
      ]
    },
    {
      "cell_type": "markdown",
      "metadata": {
        "id": "LyK7ZqwqblMY",
        "colab_type": "text"
      },
      "source": [
        "### 1.1. Load data\n"
      ]
    },
    {
      "cell_type": "code",
      "metadata": {
        "id": "Vn9TiFIOblMZ",
        "colab_type": "code",
        "outputId": "0a47d888-a027-4727-e700-20f330587ef4",
        "colab": {
          "base_uri": "https://localhost:8080/",
          "height": 102
        }
      },
      "source": [
        "from keras.datasets import cifar10\n",
        "import numpy\n",
        "\n",
        "(x_train, y_train), (x_test, y_test) = cifar10.load_data()\n",
        "\n",
        "print('shape of x_train: ' + str(x_train.shape))\n",
        "print('shape of y_train: ' + str(y_train.shape))\n",
        "print('shape of x_test: ' + str(x_test.shape))\n",
        "print('shape of y_test: ' + str(y_test.shape))\n",
        "print('number of classes: ' + str(numpy.max(y_train) - numpy.min(y_train) + 1))"
      ],
      "execution_count": 0,
      "outputs": [
        {
          "output_type": "stream",
          "text": [
            "shape of x_train: (50000, 32, 32, 3)\n",
            "shape of y_train: (50000, 1)\n",
            "shape of x_test: (10000, 32, 32, 3)\n",
            "shape of y_test: (10000, 1)\n",
            "number of classes: 10\n"
          ],
          "name": "stdout"
        }
      ]
    },
    {
      "cell_type": "markdown",
      "metadata": {
        "id": "nJOfq8-CrGcf",
        "colab_type": "text"
      },
      "source": [
        "### How does the data look like?\n",
        "\n",
        "Print a data point to see how it looks like. This will help me know if I need to rescale to 1/255"
      ]
    },
    {
      "cell_type": "code",
      "metadata": {
        "id": "0-hLMa-VrXTu",
        "colab_type": "code",
        "outputId": "bcc5f661-6696-4edb-91b8-b41262a6bde3",
        "colab": {
          "base_uri": "https://localhost:8080/",
          "height": 850
        }
      },
      "source": [
        "print(x_train[0])"
      ],
      "execution_count": 0,
      "outputs": [
        {
          "output_type": "stream",
          "text": [
            "[[[ 59  62  63]\n",
            "  [ 43  46  45]\n",
            "  [ 50  48  43]\n",
            "  ...\n",
            "  [158 132 108]\n",
            "  [152 125 102]\n",
            "  [148 124 103]]\n",
            "\n",
            " [[ 16  20  20]\n",
            "  [  0   0   0]\n",
            "  [ 18   8   0]\n",
            "  ...\n",
            "  [123  88  55]\n",
            "  [119  83  50]\n",
            "  [122  87  57]]\n",
            "\n",
            " [[ 25  24  21]\n",
            "  [ 16   7   0]\n",
            "  [ 49  27   8]\n",
            "  ...\n",
            "  [118  84  50]\n",
            "  [120  84  50]\n",
            "  [109  73  42]]\n",
            "\n",
            " ...\n",
            "\n",
            " [[208 170  96]\n",
            "  [201 153  34]\n",
            "  [198 161  26]\n",
            "  ...\n",
            "  [160 133  70]\n",
            "  [ 56  31   7]\n",
            "  [ 53  34  20]]\n",
            "\n",
            " [[180 139  96]\n",
            "  [173 123  42]\n",
            "  [186 144  30]\n",
            "  ...\n",
            "  [184 148  94]\n",
            "  [ 97  62  34]\n",
            "  [ 83  53  34]]\n",
            "\n",
            " [[177 144 116]\n",
            "  [168 129  94]\n",
            "  [179 142  87]\n",
            "  ...\n",
            "  [216 184 140]\n",
            "  [151 118  84]\n",
            "  [123  92  72]]]\n"
          ],
          "name": "stdout"
        }
      ]
    },
    {
      "cell_type": "markdown",
      "metadata": {
        "id": "Z6DiY-IjblMc",
        "colab_type": "text"
      },
      "source": [
        "### 1.2. One-hot encode the labels\n",
        "\n",
        "In the input, a label is a scalar in $\\{0, 1, \\cdots , 9\\}$. One-hot encode transform such a scalar to a $10$-dim vector. E.g., a scalar ```y_train[j]=3``` is transformed to the vector ```y_train_vec[j]=[0, 0, 0, 1, 0, 0, 0, 0, 0, 0]```.\n",
        "\n",
        "1. Define a function ```to_one_hot``` that transforms an $n\\times 1$ array to a $n\\times 10$ matrix.\n",
        "\n",
        "2. Apply the function to ```y_train``` and ```y_test```."
      ]
    },
    {
      "cell_type": "code",
      "metadata": {
        "id": "Bu6YIXgrblMc",
        "colab_type": "code",
        "outputId": "ff4e2b26-5523-44a7-d517-81fe8de8c0bb",
        "colab": {
          "base_uri": "https://localhost:8080/",
          "height": 85
        }
      },
      "source": [
        "def to_one_hot(y, num_class=10):\n",
        "    one_hot_labels = numpy.zeros((y.shape[0], num_class))\n",
        "    for idx, label in enumerate(y):\n",
        "      one_hot_labels[idx, label] = 1\n",
        "    return one_hot_labels\n",
        "\n",
        "y_train_vec = to_one_hot(y_train)\n",
        "y_test_vec = to_one_hot(y_test)\n",
        "\n",
        "print('Shape of y_train_vec: ' + str(y_train_vec.shape))\n",
        "print('Shape of y_test_vec: ' + str(y_test_vec.shape))\n",
        "\n",
        "print(y_train[0])\n",
        "print(y_train_vec[0])"
      ],
      "execution_count": 0,
      "outputs": [
        {
          "output_type": "stream",
          "text": [
            "Shape of y_train_vec: (50000, 10)\n",
            "Shape of y_test_vec: (10000, 10)\n",
            "[6]\n",
            "[0. 0. 0. 0. 0. 0. 1. 0. 0. 0.]\n"
          ],
          "name": "stdout"
        }
      ]
    },
    {
      "cell_type": "markdown",
      "metadata": {
        "id": "iBqyvElWblMe",
        "colab_type": "text"
      },
      "source": [
        "#### Remark: the outputs should be\n",
        "* Shape of y_train_vec: (50000, 10)\n",
        "* Shape of y_test_vec: (10000, 10)\n",
        "* [6]\n",
        "* [0. 0. 0. 0. 0. 0. 1. 0. 0. 0.]"
      ]
    },
    {
      "cell_type": "markdown",
      "metadata": {
        "id": "52qC7EmKkgFA",
        "colab_type": "text"
      },
      "source": [
        "### Normalize Data\n",
        "\n",
        "For some reason, resizing with data augmentation would completely ruin my training and validation loss.\n",
        "\n",
        "This custom function to resize pixels did it without an issue. Im not sure resizing is necessary, but seems to be common practice. So I did it."
      ]
    },
    {
      "cell_type": "code",
      "metadata": {
        "id": "bY8QWNoFkfa-",
        "colab_type": "code",
        "colab": {}
      },
      "source": [
        "# scale pixels\n",
        "def scale_pixels(train, test):\n",
        "\t# convert from integers to floats first\n",
        "\ttrain_norm = train.astype('float32')\n",
        "\ttest_norm = test.astype('float32')\n",
        "\t# normalize to range 0-1\n",
        "\ttrain_norm = train_norm / 255.0\n",
        "\ttest_norm = test_norm / 255.0\n",
        "\t# return normalized images\n",
        "\treturn train_norm, test_norm\n",
        "\n",
        "x_train, x_test = scale_pixels(x_train, x_test)"
      ],
      "execution_count": 0,
      "outputs": []
    },
    {
      "cell_type": "markdown",
      "metadata": {
        "id": "1M41QLmYblMf",
        "colab_type": "text"
      },
      "source": [
        "### 1.3. Randomly partition the training set to training and validation sets\n",
        "\n",
        "Randomly partition the 50K training samples to 2 sets:\n",
        "* a training set containing 40K samples\n",
        "* a validation set containing 10K samples\n"
      ]
    },
    {
      "cell_type": "code",
      "metadata": {
        "id": "7LGnvQaublMg",
        "colab_type": "code",
        "outputId": "1ded46d1-0821-4254-ab4a-0778029a9f8c",
        "colab": {
          "base_uri": "https://localhost:8080/",
          "height": 85
        }
      },
      "source": [
        "rand_indices = numpy.random.permutation(50000)\n",
        "train_indices = rand_indices[0:40000]\n",
        "valid_indices = rand_indices[40000:50000]\n",
        "\n",
        "x_val = x_train[valid_indices, :]\n",
        "y_val = y_train_vec[valid_indices, :]\n",
        "\n",
        "x_tr = x_train[train_indices, :]\n",
        "y_tr = y_train_vec[train_indices, :]\n",
        "\n",
        "print('Shape of x_tr: ' + str(x_tr.shape))\n",
        "print('Shape of y_tr: ' + str(y_tr.shape))\n",
        "print('Shape of x_val: ' + str(x_val.shape))\n",
        "print('Shape of y_val: ' + str(y_val.shape))\n"
      ],
      "execution_count": 0,
      "outputs": [
        {
          "output_type": "stream",
          "text": [
            "Shape of x_tr: (40000, 32, 32, 3)\n",
            "Shape of y_tr: (40000, 10)\n",
            "Shape of x_val: (10000, 32, 32, 3)\n",
            "Shape of y_val: (10000, 10)\n"
          ],
          "name": "stdout"
        }
      ]
    },
    {
      "cell_type": "markdown",
      "metadata": {
        "id": "Hua3_DAZblMi",
        "colab_type": "text"
      },
      "source": [
        "## 2. Build a CNN and tune its hyper-parameters\n",
        "\n",
        "1. Build a convolutional neural network model\n",
        "2. Use the validation data to tune the hyper-parameters (e.g., network structure, and optimization algorithm)\n",
        "    * Do NOT use test data for hyper-parameter tuning!!!\n",
        "3. Try to achieve a validation accuracy as high as possible."
      ]
    },
    {
      "cell_type": "markdown",
      "metadata": {
        "id": "ynU-5akvblMj",
        "colab_type": "text"
      },
      "source": [
        "### Remark: \n",
        "\n",
        "The following CNN is just an example. You are supposed to make **substantial improvements** such as:\n",
        "* Add more layers.\n",
        "* Use regularizations, e.g., dropout.\n",
        "* Use batch normalization."
      ]
    },
    {
      "cell_type": "markdown",
      "metadata": {
        "id": "jzARmk4Kn-y6",
        "colab_type": "text"
      },
      "source": [
        "### Define the NN Architecture\n",
        "\n",
        "**A Note on how I got here**\n",
        "\n",
        "> This is the network architecture I arrived at after trying over 15 different approaches over a period of one week. All of my attempts are documented in a google doc. I didn't upload it because its pretty messy :p\n",
        "\n",
        "\n",
        "\n",
        "*   Starting with the given network, and adding layers and dropout, I quickly realized that validation accuracy wouldnt go above the low 70's without data augmentation. \n",
        "\n",
        "*   I implemented data augmentation and tuned it a bit, since then I experienced almost no overfitting (except on a few experiments).\n",
        "\n",
        "* I continuously increased the complexity of my model, from under 1M parameters, to well above 3M parameters, seeing no overfitting when using light dropout (0.1-0.3 for the conv layers--which I later realized was a mistake, 0.4 for the FC).\n",
        "\n",
        "* At one point I was stuck, not being able to reach above ~81.5% validation accuracy. Given that I had experienced nearly no overfitting, and that my intuition told me that conv layer dropout made little sense, I decided to remove the dropout on the convolutional layers. \n",
        "\n",
        "* Seeing that my accuracy increased, I did some research and turns out Dropout in Conv layers is a bad idea.\n",
        "\n",
        "* Below is the final model. I'm sure it can be improved with fancier architectures, but given that each epoch takes almost two minutes to train, I left it at that. \n",
        "\n",
        "\n",
        "\n",
        "\n",
        "\n",
        "\n"
      ]
    },
    {
      "cell_type": "code",
      "metadata": {
        "id": "l9Tk0THpfo--",
        "colab_type": "code",
        "outputId": "9e60b99d-8991-4f8d-f437-f45c423670eb",
        "colab": {
          "base_uri": "https://localhost:8080/",
          "height": 1000
        }
      },
      "source": [
        "from keras.layers import Conv2D, MaxPooling2D, Flatten, Dense, BatchNormalization, Activation\n",
        "from keras.models import Sequential\n",
        "from keras.layers.core import Dropout\n",
        "\n",
        "model = Sequential()\n",
        "\n",
        "model.add(Conv2D(32, (7,7), padding='same', input_shape=(32, 32, 3)))\n",
        "model.add(BatchNormalization())\n",
        "model.add(Activation('relu'))\n",
        "\n",
        "model.add(Conv2D(32, (7,7), padding='same'))\n",
        "model.add(BatchNormalization())\n",
        "model.add(Activation('relu'))\n",
        "\n",
        "model.add(Conv2D(32, (7,7), padding='same'))\n",
        "model.add(BatchNormalization())\n",
        "model.add(Activation('relu'))\n",
        "\n",
        "model.add(MaxPooling2D(pool_size=(2,2)))\n",
        "# model.add(Dropout(0.2)) # is dropout useful here?\n",
        "\n",
        "model.add(Conv2D(64, (5,5), padding='same'))\n",
        "model.add(BatchNormalization())\n",
        "model.add(Activation('relu'))\n",
        " \n",
        "model.add(Conv2D(64, (5,5), padding='same'))\n",
        "model.add(BatchNormalization())\n",
        "model.add(Activation('relu'))\n",
        "\n",
        "model.add(Conv2D(64, (5,5), padding='same'))\n",
        "model.add(BatchNormalization())\n",
        "model.add(Activation('relu'))\n",
        "\n",
        "model.add(Conv2D(64, (5,5), padding='same'))\n",
        "model.add(BatchNormalization())\n",
        "model.add(Activation('relu'))\n",
        "\n",
        "model.add(MaxPooling2D(pool_size=(2,2)))\n",
        "# model.add(Dropout(0.2))\n",
        " \n",
        "model.add(Conv2D(128, (3,3), padding='same'))\n",
        "model.add(BatchNormalization())\n",
        "model.add(Activation('relu'))\n",
        " \n",
        "model.add(Conv2D(128, (3,3), padding='same'))\n",
        "model.add(BatchNormalization())\n",
        "model.add(Activation('relu'))\n",
        "\n",
        "model.add(Conv2D(128, (3,3), padding='same'))\n",
        "model.add(BatchNormalization())\n",
        "model.add(Activation('relu'))\n",
        "\n",
        "model.add(Conv2D(128, (3,3), padding='same'))\n",
        "model.add(BatchNormalization())\n",
        "model.add(Activation('relu'))\n",
        "\n",
        "model.add(MaxPooling2D(pool_size=(2,2)))\n",
        "model.add(Dropout(0.1))\n",
        " \n",
        "model.add(Conv2D(128, (3,3), padding='same'))\n",
        "model.add(BatchNormalization())\n",
        "model.add(Activation('relu'))\n",
        "\n",
        "model.add(Conv2D(128, (3,3), padding='same'))\n",
        "model.add(BatchNormalization())\n",
        "model.add(Activation('relu'))\n",
        "\n",
        "model.add(Conv2D(128, (3,3), padding='same'))\n",
        "model.add(BatchNormalization())\n",
        "model.add(Activation('relu'))\n",
        "\n",
        "model.add(MaxPooling2D(pool_size=(2,2)))\n",
        "model.add(Dropout(0.1))\n",
        "\n",
        "model.add(Conv2D(256, (3,3), padding='same'))\n",
        "model.add(BatchNormalization())\n",
        "model.add(Activation('relu'))\n",
        "\n",
        "model.add(Dropout(0.1)) #see if this will help. half million params\n",
        "\n",
        "model.add(Conv2D(256, (3,3), padding='same'))\n",
        "model.add(BatchNormalization())\n",
        "model.add(Activation('relu'))\n",
        "\n",
        "model.add(Dropout(0.1)) #see if this will help. half million params\n",
        "\n",
        "model.add(Conv2D(256, (3,3), padding='same'))\n",
        "model.add(BatchNormalization())\n",
        "model.add(Activation('relu'))\n",
        "\n",
        "\n",
        "model.add(Dropout(0.1)) #see if this will help. half million params\n",
        "\n",
        "model.add(Conv2D(256, (3,3), padding='same'))\n",
        "model.add(BatchNormalization())\n",
        "model.add(Activation('relu'))\n",
        "\n",
        "# model.add(MaxPooling2D(pool_size=(2,2)))\n",
        "# model.add(Dropout(0.2))\n",
        " \n",
        "model.add(Flatten())\n",
        "model.add(Dropout(0.4))\n",
        "model.add(Dense(128, activation='relu'))\n",
        "model.add(Dense(10, activation='softmax'))\n",
        " \n",
        "model.summary()"
      ],
      "execution_count": 0,
      "outputs": [
        {
          "output_type": "stream",
          "text": [
            "Model: \"sequential_8\"\n",
            "_________________________________________________________________\n",
            "Layer (type)                 Output Shape              Param #   \n",
            "=================================================================\n",
            "conv2d_127 (Conv2D)          (None, 32, 32, 32)        4736      \n",
            "_________________________________________________________________\n",
            "batch_normalization_127 (Bat (None, 32, 32, 32)        128       \n",
            "_________________________________________________________________\n",
            "activation_127 (Activation)  (None, 32, 32, 32)        0         \n",
            "_________________________________________________________________\n",
            "conv2d_128 (Conv2D)          (None, 32, 32, 32)        50208     \n",
            "_________________________________________________________________\n",
            "batch_normalization_128 (Bat (None, 32, 32, 32)        128       \n",
            "_________________________________________________________________\n",
            "activation_128 (Activation)  (None, 32, 32, 32)        0         \n",
            "_________________________________________________________________\n",
            "conv2d_129 (Conv2D)          (None, 32, 32, 32)        50208     \n",
            "_________________________________________________________________\n",
            "batch_normalization_129 (Bat (None, 32, 32, 32)        128       \n",
            "_________________________________________________________________\n",
            "activation_129 (Activation)  (None, 32, 32, 32)        0         \n",
            "_________________________________________________________________\n",
            "max_pooling2d_29 (MaxPooling (None, 16, 16, 32)        0         \n",
            "_________________________________________________________________\n",
            "conv2d_130 (Conv2D)          (None, 16, 16, 64)        51264     \n",
            "_________________________________________________________________\n",
            "batch_normalization_130 (Bat (None, 16, 16, 64)        256       \n",
            "_________________________________________________________________\n",
            "activation_130 (Activation)  (None, 16, 16, 64)        0         \n",
            "_________________________________________________________________\n",
            "conv2d_131 (Conv2D)          (None, 16, 16, 64)        102464    \n",
            "_________________________________________________________________\n",
            "batch_normalization_131 (Bat (None, 16, 16, 64)        256       \n",
            "_________________________________________________________________\n",
            "activation_131 (Activation)  (None, 16, 16, 64)        0         \n",
            "_________________________________________________________________\n",
            "conv2d_132 (Conv2D)          (None, 16, 16, 64)        102464    \n",
            "_________________________________________________________________\n",
            "batch_normalization_132 (Bat (None, 16, 16, 64)        256       \n",
            "_________________________________________________________________\n",
            "activation_132 (Activation)  (None, 16, 16, 64)        0         \n",
            "_________________________________________________________________\n",
            "conv2d_133 (Conv2D)          (None, 16, 16, 64)        102464    \n",
            "_________________________________________________________________\n",
            "batch_normalization_133 (Bat (None, 16, 16, 64)        256       \n",
            "_________________________________________________________________\n",
            "activation_133 (Activation)  (None, 16, 16, 64)        0         \n",
            "_________________________________________________________________\n",
            "max_pooling2d_30 (MaxPooling (None, 8, 8, 64)          0         \n",
            "_________________________________________________________________\n",
            "conv2d_134 (Conv2D)          (None, 8, 8, 128)         73856     \n",
            "_________________________________________________________________\n",
            "batch_normalization_134 (Bat (None, 8, 8, 128)         512       \n",
            "_________________________________________________________________\n",
            "activation_134 (Activation)  (None, 8, 8, 128)         0         \n",
            "_________________________________________________________________\n",
            "conv2d_135 (Conv2D)          (None, 8, 8, 128)         147584    \n",
            "_________________________________________________________________\n",
            "batch_normalization_135 (Bat (None, 8, 8, 128)         512       \n",
            "_________________________________________________________________\n",
            "activation_135 (Activation)  (None, 8, 8, 128)         0         \n",
            "_________________________________________________________________\n",
            "conv2d_136 (Conv2D)          (None, 8, 8, 128)         147584    \n",
            "_________________________________________________________________\n",
            "batch_normalization_136 (Bat (None, 8, 8, 128)         512       \n",
            "_________________________________________________________________\n",
            "activation_136 (Activation)  (None, 8, 8, 128)         0         \n",
            "_________________________________________________________________\n",
            "conv2d_137 (Conv2D)          (None, 8, 8, 128)         147584    \n",
            "_________________________________________________________________\n",
            "batch_normalization_137 (Bat (None, 8, 8, 128)         512       \n",
            "_________________________________________________________________\n",
            "activation_137 (Activation)  (None, 8, 8, 128)         0         \n",
            "_________________________________________________________________\n",
            "max_pooling2d_31 (MaxPooling (None, 4, 4, 128)         0         \n",
            "_________________________________________________________________\n",
            "dropout_41 (Dropout)         (None, 4, 4, 128)         0         \n",
            "_________________________________________________________________\n",
            "conv2d_138 (Conv2D)          (None, 4, 4, 128)         147584    \n",
            "_________________________________________________________________\n",
            "batch_normalization_138 (Bat (None, 4, 4, 128)         512       \n",
            "_________________________________________________________________\n",
            "activation_138 (Activation)  (None, 4, 4, 128)         0         \n",
            "_________________________________________________________________\n",
            "conv2d_139 (Conv2D)          (None, 4, 4, 128)         147584    \n",
            "_________________________________________________________________\n",
            "batch_normalization_139 (Bat (None, 4, 4, 128)         512       \n",
            "_________________________________________________________________\n",
            "activation_139 (Activation)  (None, 4, 4, 128)         0         \n",
            "_________________________________________________________________\n",
            "conv2d_140 (Conv2D)          (None, 4, 4, 128)         147584    \n",
            "_________________________________________________________________\n",
            "batch_normalization_140 (Bat (None, 4, 4, 128)         512       \n",
            "_________________________________________________________________\n",
            "activation_140 (Activation)  (None, 4, 4, 128)         0         \n",
            "_________________________________________________________________\n",
            "max_pooling2d_32 (MaxPooling (None, 2, 2, 128)         0         \n",
            "_________________________________________________________________\n",
            "dropout_42 (Dropout)         (None, 2, 2, 128)         0         \n",
            "_________________________________________________________________\n",
            "conv2d_141 (Conv2D)          (None, 2, 2, 256)         295168    \n",
            "_________________________________________________________________\n",
            "batch_normalization_141 (Bat (None, 2, 2, 256)         1024      \n",
            "_________________________________________________________________\n",
            "activation_141 (Activation)  (None, 2, 2, 256)         0         \n",
            "_________________________________________________________________\n",
            "dropout_43 (Dropout)         (None, 2, 2, 256)         0         \n",
            "_________________________________________________________________\n",
            "conv2d_142 (Conv2D)          (None, 2, 2, 256)         590080    \n",
            "_________________________________________________________________\n",
            "batch_normalization_142 (Bat (None, 2, 2, 256)         1024      \n",
            "_________________________________________________________________\n",
            "activation_142 (Activation)  (None, 2, 2, 256)         0         \n",
            "_________________________________________________________________\n",
            "dropout_44 (Dropout)         (None, 2, 2, 256)         0         \n",
            "_________________________________________________________________\n",
            "conv2d_143 (Conv2D)          (None, 2, 2, 256)         590080    \n",
            "_________________________________________________________________\n",
            "batch_normalization_143 (Bat (None, 2, 2, 256)         1024      \n",
            "_________________________________________________________________\n",
            "activation_143 (Activation)  (None, 2, 2, 256)         0         \n",
            "_________________________________________________________________\n",
            "dropout_45 (Dropout)         (None, 2, 2, 256)         0         \n",
            "_________________________________________________________________\n",
            "conv2d_144 (Conv2D)          (None, 2, 2, 256)         590080    \n",
            "_________________________________________________________________\n",
            "batch_normalization_144 (Bat (None, 2, 2, 256)         1024      \n",
            "_________________________________________________________________\n",
            "activation_144 (Activation)  (None, 2, 2, 256)         0         \n",
            "_________________________________________________________________\n",
            "flatten_8 (Flatten)          (None, 1024)              0         \n",
            "_________________________________________________________________\n",
            "dropout_46 (Dropout)         (None, 1024)              0         \n",
            "_________________________________________________________________\n",
            "dense_15 (Dense)             (None, 128)               131200    \n",
            "_________________________________________________________________\n",
            "dense_16 (Dense)             (None, 10)                1290      \n",
            "=================================================================\n",
            "Total params: 3,630,154\n",
            "Trainable params: 3,625,610\n",
            "Non-trainable params: 4,544\n",
            "_________________________________________________________________\n"
          ],
          "name": "stdout"
        }
      ]
    },
    {
      "cell_type": "markdown",
      "metadata": {
        "id": "Ql7sv_MC5v79",
        "colab_type": "text"
      },
      "source": [
        "### Compile model"
      ]
    },
    {
      "cell_type": "code",
      "metadata": {
        "id": "8srQpD7ublMm",
        "colab_type": "code",
        "colab": {}
      },
      "source": [
        "from keras import optimizers\n",
        "\n",
        "learning_rate = 0.001 # from 0.00001 to 0.0001: val_acc stops increasing at epoch 10 - 0.66\n",
        "\n",
        "model.compile(loss='categorical_crossentropy',\n",
        "              optimizer=optimizers.SGD(lr=learning_rate, momentum=0.9),\n",
        "              metrics=['accuracy'])"
      ],
      "execution_count": 0,
      "outputs": []
    },
    {
      "cell_type": "markdown",
      "metadata": {
        "id": "H-DKWV1IpY28",
        "colab_type": "text"
      },
      "source": [
        "### Reduce the Learning Rate during training\n",
        "\n"
      ]
    },
    {
      "cell_type": "code",
      "metadata": {
        "id": "VSKRZcEOnJM5",
        "colab_type": "code",
        "colab": {}
      },
      "source": [
        "from keras.callbacks import ReduceLROnPlateau, CSVLogger, ModelCheckpoint, EarlyStopping, LearningRateScheduler\n",
        "\n",
        "lr_reducer = ReduceLROnPlateau(monitor='val_loss', factor=0.1,\n",
        "                               cooldown=0, patience=3, min_lr=0.5e-6, verbose=1)\n",
        "\n",
        "\n",
        "\n",
        "csv_logger = (CSVLogger(\"/content/log.csv\"))\n",
        "\n",
        "early_stopper = EarlyStopping(min_delta=0.001, patience=12, verbose=1)\n",
        "\n",
        "checkpoint = ModelCheckpoint(\"/content/model_final.hdf5\", monitor=\"val_loss\", verbose=1, save_best_only=True, mode=\"auto\", period=5)"
      ],
      "execution_count": 0,
      "outputs": []
    },
    {
      "cell_type": "markdown",
      "metadata": {
        "id": "3ntIuZfwoBsX",
        "colab_type": "text"
      },
      "source": [
        "### Use data augmentation\n",
        "\n",
        "The objects on CIFAR10 can be flipped horizontally and still make sense. \n",
        "\n",
        "They can also be rotated slightly and shifted vertically and horizontally and still make sense.\n",
        "\n",
        "Use the ImageDataGenerator to generate samples using random combinations of these characteristics."
      ]
    },
    {
      "cell_type": "code",
      "metadata": {
        "id": "5egVWTSOnVnR",
        "colab_type": "code",
        "colab": {}
      },
      "source": [
        "from keras.preprocessing.image import ImageDataGenerator\n",
        "\n",
        "image_generator = ImageDataGenerator(\n",
        "                                    # rescale=1./255, \n",
        "                                    horizontal_flip = True, \n",
        "                                    rotation_range = 10, \n",
        "                                    height_shift_range = 0.05, \n",
        "                                     width_shift_range = 0.05)\n",
        "\n",
        "image_generator.fit(x_tr)"
      ],
      "execution_count": 0,
      "outputs": []
    },
    {
      "cell_type": "code",
      "metadata": {
        "id": "Ir27JwjyblMo",
        "colab_type": "code",
        "outputId": "9e1c068e-e937-4bab-e53a-4dbd6bfc722d",
        "colab": {
          "base_uri": "https://localhost:8080/",
          "height": 1000
        }
      },
      "source": [
        "history = model.fit_generator(image_generator.flow(x_tr, y_tr, batch_size=32),\n",
        "                              steps_per_epoch = x_tr.shape[0] // 32,\n",
        "                              epochs=70, \n",
        "                              validation_data=(x_val, y_val),\n",
        "                              callbacks = [lr_reducer, csv_logger, checkpoint, early_stopper],\n",
        "                              verbose=1)"
      ],
      "execution_count": 0,
      "outputs": [
        {
          "output_type": "stream",
          "text": [
            "Epoch 1/70\n",
            "1250/1250 [==============================] - 99s 79ms/step - loss: 1.9251 - acc: 0.2754 - val_loss: 1.7446 - val_acc: 0.3403\n",
            "Epoch 2/70\n",
            "1250/1250 [==============================] - 94s 75ms/step - loss: 1.5945 - acc: 0.4150 - val_loss: 1.5851 - val_acc: 0.4210\n",
            "Epoch 3/70\n",
            "1250/1250 [==============================] - 92s 74ms/step - loss: 1.4174 - acc: 0.4862 - val_loss: 1.6172 - val_acc: 0.4351\n",
            "Epoch 4/70\n",
            "1250/1250 [==============================] - 92s 74ms/step - loss: 1.2806 - acc: 0.5425 - val_loss: 1.3030 - val_acc: 0.5215\n",
            "Epoch 5/70\n",
            "1250/1250 [==============================] - 93s 74ms/step - loss: 1.1640 - acc: 0.5846 - val_loss: 1.3671 - val_acc: 0.5200\n",
            "\n",
            "Epoch 00005: val_loss improved from inf to 1.36706, saving model to /content/model_custom_prep_pixel_3convperlayer.hdf5\n",
            "Epoch 6/70\n",
            "1250/1250 [==============================] - 93s 74ms/step - loss: 1.0640 - acc: 0.6237 - val_loss: 1.3580 - val_acc: 0.5422\n",
            "Epoch 7/70\n",
            "1250/1250 [==============================] - 92s 74ms/step - loss: 0.9792 - acc: 0.6569 - val_loss: 0.9258 - val_acc: 0.6711\n",
            "Epoch 8/70\n",
            "1250/1250 [==============================] - 93s 75ms/step - loss: 0.9030 - acc: 0.6829 - val_loss: 1.0428 - val_acc: 0.6440\n",
            "Epoch 9/70\n",
            "1250/1250 [==============================] - 94s 75ms/step - loss: 0.8434 - acc: 0.7066 - val_loss: 0.8918 - val_acc: 0.6909\n",
            "Epoch 10/70\n",
            "1250/1250 [==============================] - 93s 75ms/step - loss: 0.7866 - acc: 0.7269 - val_loss: 0.9282 - val_acc: 0.6913\n",
            "\n",
            "Epoch 00010: val_loss improved from 1.36706 to 0.92821, saving model to /content/model_custom_prep_pixel_3convperlayer.hdf5\n",
            "Epoch 11/70\n",
            "1250/1250 [==============================] - 93s 74ms/step - loss: 0.7479 - acc: 0.7393 - val_loss: 1.1657 - val_acc: 0.6383\n",
            "Epoch 12/70\n",
            "1250/1250 [==============================] - 93s 74ms/step - loss: 0.7059 - acc: 0.7567 - val_loss: 0.7527 - val_acc: 0.7434\n",
            "Epoch 13/70\n",
            "1250/1250 [==============================] - 93s 74ms/step - loss: 0.6654 - acc: 0.7682 - val_loss: 0.9237 - val_acc: 0.6876\n",
            "Epoch 14/70\n",
            "1250/1250 [==============================] - 93s 74ms/step - loss: 0.6332 - acc: 0.7827 - val_loss: 0.7533 - val_acc: 0.7389\n",
            "Epoch 15/70\n",
            "1250/1250 [==============================] - 93s 75ms/step - loss: 0.6046 - acc: 0.7924 - val_loss: 0.9563 - val_acc: 0.6957\n",
            "\n",
            "Epoch 00015: ReduceLROnPlateau reducing learning rate to 0.00010000000474974513.\n",
            "\n",
            "Epoch 00015: val_loss did not improve from 0.92821\n",
            "Epoch 16/70\n",
            "1250/1250 [==============================] - 93s 74ms/step - loss: 0.4983 - acc: 0.8288 - val_loss: 0.5702 - val_acc: 0.8081\n",
            "Epoch 17/70\n",
            "1250/1250 [==============================] - 93s 75ms/step - loss: 0.4642 - acc: 0.8395 - val_loss: 0.5781 - val_acc: 0.8067\n",
            "Epoch 18/70\n",
            "1250/1250 [==============================] - 93s 74ms/step - loss: 0.4543 - acc: 0.8432 - val_loss: 0.5713 - val_acc: 0.8085\n",
            "Epoch 19/70\n",
            "1250/1250 [==============================] - 93s 74ms/step - loss: 0.4366 - acc: 0.8479 - val_loss: 0.5605 - val_acc: 0.8123\n",
            "Epoch 20/70\n",
            "1250/1250 [==============================] - 93s 74ms/step - loss: 0.4300 - acc: 0.8529 - val_loss: 0.5623 - val_acc: 0.8107\n",
            "\n",
            "Epoch 00020: val_loss improved from 0.92821 to 0.56225, saving model to /content/model_custom_prep_pixel_3convperlayer.hdf5\n",
            "Epoch 21/70\n",
            "1250/1250 [==============================] - 93s 74ms/step - loss: 0.4270 - acc: 0.8537 - val_loss: 0.5549 - val_acc: 0.8138\n",
            "Epoch 22/70\n",
            "1250/1250 [==============================] - 93s 74ms/step - loss: 0.4130 - acc: 0.8585 - val_loss: 0.5452 - val_acc: 0.8176\n",
            "Epoch 23/70\n",
            "1250/1250 [==============================] - 93s 74ms/step - loss: 0.4102 - acc: 0.8580 - val_loss: 0.5687 - val_acc: 0.8119\n",
            "Epoch 24/70\n",
            "1250/1250 [==============================] - 93s 74ms/step - loss: 0.3963 - acc: 0.8628 - val_loss: 0.5517 - val_acc: 0.8180\n",
            "Epoch 25/70\n",
            "1250/1250 [==============================] - 93s 74ms/step - loss: 0.3969 - acc: 0.8617 - val_loss: 0.5542 - val_acc: 0.8181\n",
            "\n",
            "Epoch 00025: ReduceLROnPlateau reducing learning rate to 1.0000000474974514e-05.\n",
            "\n",
            "Epoch 00025: val_loss improved from 0.56225 to 0.55416, saving model to /content/model_custom_prep_pixel_3convperlayer.hdf5\n",
            "Epoch 26/70\n",
            "1250/1250 [==============================] - 93s 74ms/step - loss: 0.3769 - acc: 0.8703 - val_loss: 0.5483 - val_acc: 0.8191\n",
            "Epoch 27/70\n",
            "1250/1250 [==============================] - 93s 75ms/step - loss: 0.3739 - acc: 0.8717 - val_loss: 0.5475 - val_acc: 0.8210\n",
            "Epoch 28/70\n",
            "1250/1250 [==============================] - 94s 75ms/step - loss: 0.3697 - acc: 0.8716 - val_loss: 0.5436 - val_acc: 0.8212\n",
            "Epoch 29/70\n",
            "1250/1250 [==============================] - 93s 75ms/step - loss: 0.3688 - acc: 0.8729 - val_loss: 0.5408 - val_acc: 0.8226\n",
            "Epoch 30/70\n",
            "1250/1250 [==============================] - 94s 75ms/step - loss: 0.3718 - acc: 0.8702 - val_loss: 0.5412 - val_acc: 0.8220\n",
            "\n",
            "Epoch 00030: val_loss improved from 0.55416 to 0.54123, saving model to /content/model_custom_prep_pixel_3convperlayer.hdf5\n",
            "Epoch 31/70\n",
            "1250/1250 [==============================] - 93s 75ms/step - loss: 0.3638 - acc: 0.8738 - val_loss: 0.5428 - val_acc: 0.8229\n",
            "Epoch 32/70\n",
            "1250/1250 [==============================] - 94s 75ms/step - loss: 0.3667 - acc: 0.8725 - val_loss: 0.5437 - val_acc: 0.8225\n",
            "\n",
            "Epoch 00032: ReduceLROnPlateau reducing learning rate to 1.0000000656873453e-06.\n",
            "Epoch 33/70\n",
            "1250/1250 [==============================] - 93s 74ms/step - loss: 0.3665 - acc: 0.8736 - val_loss: 0.5467 - val_acc: 0.8212\n",
            "Epoch 34/70\n",
            "1250/1250 [==============================] - 93s 74ms/step - loss: 0.3640 - acc: 0.8738 - val_loss: 0.5459 - val_acc: 0.8207\n",
            "Epoch 35/70\n",
            "1250/1250 [==============================] - 93s 75ms/step - loss: 0.3622 - acc: 0.8734 - val_loss: 0.5452 - val_acc: 0.8217\n",
            "\n",
            "Epoch 00035: ReduceLROnPlateau reducing learning rate to 5e-07.\n",
            "\n",
            "Epoch 00035: val_loss did not improve from 0.54123\n",
            "Epoch 36/70\n",
            "1250/1250 [==============================] - 93s 75ms/step - loss: 0.3634 - acc: 0.8752 - val_loss: 0.5462 - val_acc: 0.8211\n",
            "Epoch 37/70\n",
            "1250/1250 [==============================] - 93s 75ms/step - loss: 0.3644 - acc: 0.8734 - val_loss: 0.5447 - val_acc: 0.8212\n",
            "Epoch 38/70\n",
            "1250/1250 [==============================] - 93s 75ms/step - loss: 0.3669 - acc: 0.8722 - val_loss: 0.5469 - val_acc: 0.8208\n",
            "Epoch 39/70\n",
            "1250/1250 [==============================] - 93s 75ms/step - loss: 0.3629 - acc: 0.8738 - val_loss: 0.5486 - val_acc: 0.8212\n",
            "Epoch 40/70\n",
            "1250/1250 [==============================] - 93s 74ms/step - loss: 0.3633 - acc: 0.8745 - val_loss: 0.5481 - val_acc: 0.8205\n",
            "\n",
            "Epoch 00040: val_loss did not improve from 0.54123\n",
            "Epoch 41/70\n",
            "1250/1250 [==============================] - 93s 75ms/step - loss: 0.3667 - acc: 0.8731 - val_loss: 0.5457 - val_acc: 0.8214\n",
            "Epoch 00041: early stopping\n"
          ],
          "name": "stdout"
        }
      ]
    },
    {
      "cell_type": "markdown",
      "metadata": {
        "id": "bO1oSZQ06CLI",
        "colab_type": "text"
      },
      "source": [
        "### Make some visualizations"
      ]
    },
    {
      "cell_type": "code",
      "metadata": {
        "id": "yU5_5srGblMq",
        "colab_type": "code",
        "outputId": "b29b6811-67e2-4e76-d095-f5318025bd0f",
        "colab": {
          "base_uri": "https://localhost:8080/",
          "height": 282
        }
      },
      "source": [
        "import matplotlib.pyplot as plt\n",
        "%matplotlib inline\n",
        "\n",
        "acc = history.history['acc']\n",
        "val_acc = history.history['val_acc']\n",
        "\n",
        "epochs = range(len(acc))\n",
        "\n",
        "plt.plot(epochs, acc, 'bo', label='Training acc')\n",
        "plt.plot(epochs, val_acc, 'r', label='Validation acc')\n",
        "plt.xlabel('Epochs')\n",
        "plt.ylabel('Accuracy')\n",
        "plt.legend()\n",
        "plt.show()"
      ],
      "execution_count": 0,
      "outputs": [
        {
          "output_type": "display_data",
          "data": {
            "image/png": "[encoded data removed]",
            "text/plain": [
              "<Figure size 432x288 with 1 Axes>"
            ]
          },
          "metadata": {
            "tags": []
          }
        }
      ]
    },
    {
      "cell_type": "code",
      "metadata": {
        "id": "OxhiChQ_RjPW",
        "colab_type": "code",
        "outputId": "c05f3c93-ccb8-4815-de9f-1ae6c7889f37",
        "colab": {
          "base_uri": "https://localhost:8080/",
          "height": 283
        }
      },
      "source": [
        "train_loss = history.history['loss']\n",
        "val_loss = history.history['val_loss']\n",
        "\n",
        "epochs = range(len(acc))\n",
        "\n",
        "plt.plot(epochs, train_loss, 'bo', label='Training loss')\n",
        "plt.plot(epochs, val_loss, 'r', label='Validation loss')\n",
        "plt.xlabel('Epochs')\n",
        "plt.ylabel('loss')\n",
        "plt.legend()\n",
        "plt.show()"
      ],
      "execution_count": 0,
      "outputs": [
        {
          "output_type": "display_data",
          "data": {
            "image/png": "[encoded data removed]",
            "text/plain": [
              "<Figure size 432x288 with 1 Axes>"
            ]
          },
          "metadata": {
            "tags": []
          }
        }
      ]
    },
    {
      "cell_type": "markdown",
      "metadata": {
        "id": "qiGJ5NqQblMv",
        "colab_type": "text"
      },
      "source": [
        "## 3. Train (again) and evaluate the model\n",
        "\n",
        "- To this end, you have found the \"best\" hyper-parameters. \n",
        "- Now, fix the hyper-parameters and train the network on the entire training set (all the 50K training samples)\n",
        "- Evaluate your model on the test set."
      ]
    },
    {
      "cell_type": "markdown",
      "metadata": {
        "id": "KU5FYLyiblMw",
        "colab_type": "text"
      },
      "source": [
        "### 3.1. Train the model on the entire training set\n",
        "\n",
        "Why? Previously, you used 40K samples for training; you wasted 10K samples for the sake of hyper-parameter tuning. Now you already know the hyper-parameters, so why not using all the 50K samples for training?"
      ]
    },
    {
      "cell_type": "code",
      "metadata": {
        "colab_type": "code",
        "id": "FJeZYAK3IWiD",
        "colab": {}
      },
      "source": [
        "from keras import optimizers\n",
        "\n",
        "learning_rate = 0.001 \n",
        "\n",
        "model.compile(loss='categorical_crossentropy',\n",
        "              optimizer=optimizers.SGD(lr=learning_rate, momentum=0.9),\n",
        "              metrics=['accuracy'])"
      ],
      "execution_count": 0,
      "outputs": []
    },
    {
      "cell_type": "code",
      "metadata": {
        "colab_type": "code",
        "outputId": "411f5199-e958-4bad-9027-e35008542af5",
        "id": "juilJXS0IcDS",
        "colab": {
          "base_uri": "https://localhost:8080/",
          "height": 51
        }
      },
      "source": [
        "history = model.fit_generator(image_generator.flow(x_train, y_train_vec, batch_size=32),\n",
        "                              steps_per_epoch = x_train.shape[0] // 32,\n",
        "                              epochs=35)"
      ],
      "execution_count": 0,
      "outputs": [
        {
          "output_type": "stream",
          "text": [
            "Epoch 1/35\n",
            " 141/1562 [=>............................] - ETA: 1:45 - loss: 0.3656 - acc: 0.8732"
          ],
          "name": "stdout"
        }
      ]
    },
    {
      "cell_type": "markdown",
      "metadata": {
        "id": "QPNGP_LCblM3",
        "colab_type": "text"
      },
      "source": [
        "### 3.2. Evaluate the model on the test set\n",
        "\n",
        "Do NOT used the test set until now. Make sure that your model parameters and hyper-parameters are independent of the test set."
      ]
    },
    {
      "cell_type": "code",
      "metadata": {
        "id": "sy_z0akLblM4",
        "colab_type": "code",
        "colab": {
          "base_uri": "https://localhost:8080/",
          "height": 68
        },
        "outputId": "d72803e6-5c95-43b0-851c-4a7ad3796ca4"
      },
      "source": [
        "loss_and_acc = model.evaluate(x_test, y_test_vec)\n",
        "print('loss = ' + str(loss_and_acc[0]))\n",
        "print('accuracy = ' + str(loss_and_acc[1]))"
      ],
      "execution_count": 59,
      "outputs": [
        {
          "output_type": "stream",
          "text": [
            "10000/10000 [==============================] - 6s 612us/step\n",
            "loss = 0.5192452391147614\n",
            "accuracy = 0.8306\n"
          ],
          "name": "stdout"
        }
      ]
    },
    {
      "cell_type": "markdown",
      "metadata": {
        "id": "g2nCMvA3Wskv",
        "colab_type": "text"
      },
      "source": [
        ""
      ]
    }
  ]
}